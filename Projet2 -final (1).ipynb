{
  "nbformat": 4,
  "nbformat_minor": 0,
  "metadata": {
    "celltoolbar": "Raw Cell Format",
    "colab": {
      "provenance": []
    },
    "kernelspec": {
      "display_name": "Python 3",
      "language": "python",
      "name": "python3"
    },
    "language_info": {
      "codemirror_mode": {
        "name": "ipython",
        "version": 3
      },
      "file_extension": ".py",
      "mimetype": "text/x-python",
      "name": "python",
      "nbconvert_exporter": "python",
      "pygments_lexer": "ipython3",
      "version": "3.6.5"
    }
  },
  "cells": [
    {
      "cell_type": "markdown",
      "metadata": {
        "id": "u8vwRIunRWa_"
      },
      "source": [
        "# Dimensionality reduction analysis \n",
        "\n",
        "After applying the different clustering algorithms, we now look at ways to improve the obtained results. One way to do so is by applying dimension reduction techniques such as Principal Component Analysis (PCA) and Canonical Correlation Analysis (CCA). \n",
        "\n",
        "\n",
        "**<font color='red'>PCA:</font>** This method is used to reduced the dimensions of the data. In fact, sometimes we have variables that do not give any information about the data and thus removing these variables can lead to better results.  \n",
        "\n",
        "**<font color='red'>CCA:</font>** This method is used to detect correlations between different subgroups of data. In fact, sometimes we have variables that are so strongly correlated that reducing the dimensions using linear combinations between the correlated variables can imporove the results\n",
        "It is **important to note that we will NOT use the labels when applying PCA and CCA.** \n",
        "\n",
        "___\n",
        "\n",
        "\n",
        "Therefore, in this part of the project, you will apply both PCA and CCA on the data you chose in the clustering part. Afterwards, you will apply the clustering method that gave the best results in TD2_3 on the reduced dataset you obtained from the PCA step. "
      ]
    },
    {
      "cell_type": "markdown",
      "metadata": {
        "id": "OmlK7xfGe0yw"
      },
      "source": [
        "## Mount Drive\n",
        "\n",
        "**For google colab users only**"
      ]
    },
    {
      "cell_type": "markdown",
      "metadata": {
        "id": "LOkk8MDZRWbA"
      },
      "source": [
        "## Import Libraries\n",
        "\n",
        "**Tip**: look at the documentation of the packages and methods imported, they can help you answer some questions."
      ]
    },
    {
      "cell_type": "code",
      "execution_count": 2,
      "metadata": {
        "id": "zMzYC9t-egB5"
      },
      "outputs": [],
      "source": [
        "import seaborn as sns\n",
        "import matplotlib.pyplot as plt\n",
        "import pandas as pd\n",
        "import numpy as np\n",
        "%matplotlib inline\n"
      ]
    },
    {
      "cell_type": "markdown",
      "metadata": {
        "id": "NbbEEnkpRWbE"
      },
      "source": [
        "## Load the dataset, separate data from classes\n"
      ]
    },
    {
      "cell_type": "markdown",
      "metadata": {
        "id": "TmHQPPWoRWbE"
      },
      "source": [
        "\n",
        "Load the dataset you are using in your project and separate the data from the class.\n",
        "\n",
        "**<font color='red'>N.B:</font>** If you have applied some preprocessing steps (missing value replacement, factorize), please used the dataset you obtained after all the steps (you should have saved your dataset in notebook TD2_3.ipynb) without the normalization step.\n",
        "\n",
        "\n",
        "\n"
      ]
    },
    {
      "cell_type": "code",
      "execution_count": 3,
      "metadata": {
        "id": "EQjK_f6OegCP"
      },
      "outputs": [],
      "source": [
        "df = pd.read_csv('preprocessed_data.csv', header=0)\n",
        "\n",
        "\n"
      ]
    },
    {
      "cell_type": "code",
      "source": [
        "true_labels = df[\"Survived\"]\n",
        "features = df.drop(\"Survived\", axis=1)\n"
      ],
      "metadata": {
        "id": "S9V7d9EmkImU"
      },
      "execution_count": 4,
      "outputs": []
    },
    {
      "cell_type": "code",
      "source": [
        "preprocessed_data = features\n",
        "preprocessed_data=df.drop([\"Survived\",\"Unnamed: 0\"], axis=1) \n"
      ],
      "metadata": {
        "id": "Jlm4dIWzOkEf"
      },
      "execution_count": 5,
      "outputs": []
    },
    {
      "cell_type": "code",
      "source": [
        " \n",
        "print(preprocessed_data)"
      ],
      "metadata": {
        "colab": {
          "base_uri": "https://localhost:8080/"
        },
        "id": "VwOr82k-AKSG",
        "outputId": "df88b2ff-97af-484a-84fc-9ceb60ff9ab2"
      },
      "execution_count": 6,
      "outputs": [
        {
          "output_type": "stream",
          "name": "stdout",
          "text": [
            "     Pclass   Age  SibSp  Parch     Fare  Name  Sex  Cabin\n",
            "0       3.0  22.0    1.0    0.0   7.2500     0    0      3\n",
            "1       1.0  38.0    1.0    0.0  71.2833     1    1      0\n",
            "2       3.0  26.0    0.0    0.0   7.9250     2    1      3\n",
            "3       1.0  35.0    1.0    0.0  53.1000     3    1      1\n",
            "4       3.0  35.0    0.0    0.0   8.0500     4    0      3\n",
            "..      ...   ...    ...    ...      ...   ...  ...    ...\n",
            "886     2.0  27.0    0.0    0.0  13.0000   886    0      3\n",
            "887     1.0  19.0    0.0    0.0  30.0000   887    1    145\n",
            "888     3.0  28.0    1.0    2.0  23.4500   888    1      3\n",
            "889     1.0  26.0    0.0    0.0  30.0000   889    0    146\n",
            "890     3.0  32.0    0.0    0.0   7.7500   890    0      3\n",
            "\n",
            "[891 rows x 8 columns]\n"
          ]
        }
      ]
    },
    {
      "cell_type": "markdown",
      "metadata": {
        "id": "cvq_mI8UegDv"
      },
      "source": [
        "## Part 1: Apply PCA"
      ]
    },
    {
      "cell_type": "markdown",
      "source": [
        "\n",
        "##### We start by scaling the data so that each feature has a single unit variance.  \n",
        "\n",
        "\n",
        "**<font color='red'>N.B:</font>** For the purpose of this part of the project, we will scale both continuous and numerical variables. \n",
        "PCA is designed for continuous variables, so theoretically you should only apply it to the data that was already continuous in your original dataset. To make this project easier and more comparable between groups, we have decided to let you apply it on all features."
      ],
      "metadata": {
        "id": "ff-kMt84TrEJ"
      }
    },
    {
      "cell_type": "code",
      "execution_count": 7,
      "metadata": {
        "id": "PTJ8zfTpegDw"
      },
      "outputs": [],
      "source": [
        "# Use StandardScaler\n",
        "from sklearn.preprocessing import StandardScaler\n",
        "\n",
        "# instanciate scaler object\n",
        "scaler = StandardScaler()\n",
        "\n",
        "# fit scaler to our data\n",
        "scaler.fit(preprocessed_data)\n",
        "\n",
        "# scale our data\n",
        "data_scaled = scaler.transform(preprocessed_data)"
      ]
    },
    {
      "cell_type": "markdown",
      "metadata": {
        "id": "6LyNt_7cfnzT"
      },
      "source": [
        "\n",
        "##### We then instantiate a PCA object.\n",
        "\n",
        "The main parameter of this method is the max number of components. In this project, we will choose it to be equal to the max number of variables in the data. \n"
      ]
    },
    {
      "cell_type": "code",
      "execution_count": 8,
      "metadata": {
        "id": "yinJmteEegD1",
        "colab": {
          "base_uri": "https://localhost:8080/"
        },
        "outputId": "37098c4c-f3ad-4d71-e246-9c634897e622"
      },
      "outputs": [
        {
          "output_type": "execute_result",
          "data": {
            "text/plain": [
              "(891, 8)"
            ]
          },
          "metadata": {},
          "execution_count": 8
        }
      ],
      "source": [
        "\n",
        "from sklearn.decomposition import PCA\n",
        "\n",
        "# instanciate a PCA object\n",
        "pca = PCA() \n",
        "pca2 = PCA(n_components=8)\n",
        "# fit the object to our data\n",
        "pca.fit(data_scaled)\n",
        "\n",
        "# apply PCA to our data to get new coordinates\n",
        "data_pca = pca.transform(data_scaled)\n",
        "data_pca.shape\n"
      ]
    },
    {
      "cell_type": "markdown",
      "metadata": {
        "id": "P9rhEC4qRWb6"
      },
      "source": [
        "### Interpreting the components \n",
        "\n",
        "The next step is to choose the number of components to keep."
      ]
    },
    {
      "cell_type": "markdown",
      "source": [
        "##### Plot the explained variance of each component using the corrected variance."
      ],
      "metadata": {
        "id": "dyAaYjVFTlT7"
      }
    },
    {
      "cell_type": "code",
      "execution_count": 9,
      "metadata": {
        "id": "_d-KWKTPegEB",
        "colab": {
          "base_uri": "https://localhost:8080/"
        },
        "outputId": "f9a6f167-32c6-40ea-ac56-4f29e0139880"
      },
      "outputs": [
        {
          "output_type": "stream",
          "name": "stdout",
          "text": [
            "Explained variance\n",
            "[2.22979906 1.75616396 1.05008585 0.87194374 0.73935753 0.5571127\n",
            " 0.5047634  0.29976252]\n",
            "\n",
            "Corrected variance\n",
            "[2.23230445 1.75813718 1.05126572 0.87292345 0.74018827 0.55773867\n",
            " 0.50533055 0.30009934]\n"
          ]
        }
      ],
      "source": [
        "# Explained variance (eigenvalues)\n",
        "print(\"Explained variance\")\n",
        "print(pca.explained_variance_)\n",
        "\n",
        "# Corrected variance values \n",
        "n = len(data_pca) # number of samples\n",
        "corrected_variance = (n/(n-1))*pca.explained_variance_\n",
        "print(\"\\nCorrected variance\")\n",
        "print(corrected_variance)"
      ]
    },
    {
      "cell_type": "code",
      "execution_count": 10,
      "metadata": {
        "id": "PmWJ-PM6egEF",
        "colab": {
          "base_uri": "https://localhost:8080/",
          "height": 472
        },
        "outputId": "4107123f-8129-442e-9b61-ff969a53f23e"
      },
      "outputs": [
        {
          "output_type": "display_data",
          "data": {
            "text/plain": [
              "<Figure size 640x480 with 1 Axes>"
            ],
            "image/png": "[encoded data removed]"
          },
          "metadata": {}
        }
      ],
      "source": [
        "# plot the explained variance of each component\n",
        "p = data_pca.shape[1] # number of components\n",
        "plt.plot(np.arange(1,p+1),corrected_variance, marker='.')\n",
        "plt.title(\"Scree plot\")\n",
        "plt.ylabel(\"Variance values\")\n",
        "plt.xlabel(\"Factor number\")\n",
        "plt.show()"
      ]
    },
    {
      "cell_type": "markdown",
      "source": [
        "##### Plot the cumulative variance of the components based on the explained variance ratio."
      ],
      "metadata": {
        "id": "M9yAYZd5j1ti"
      }
    },
    {
      "cell_type": "code",
      "source": [
        "explained_variance_ratio=pca.explained_variance_ratio_*100\n",
        "cumulative_var = np.cumsum(explained_variance_ratio)\n",
        "cumulative_var"
      ],
      "metadata": {
        "id": "MVl7HvPnfGTX",
        "colab": {
          "base_uri": "https://localhost:8080/"
        },
        "outputId": "0cce39ed-458e-4dd7-b7ef-5bcf7cbec8e4"
      },
      "execution_count": 11,
      "outputs": [
        {
          "output_type": "execute_result",
          "data": {
            "text/plain": [
              "array([ 27.84120597,  49.76861795,  62.87995927,  73.76702338,\n",
              "        82.99861989,  89.95471279,  96.25717388, 100.        ])"
            ]
          },
          "metadata": {},
          "execution_count": 11
        }
      ]
    },
    {
      "cell_type": "code",
      "source": [
        "# plot the cumulative variance\n",
        "plt.figure(figsize=(10,7))\n",
        "plt.title(\"Cumulative variance\")\n",
        "plt.ylabel('% Variance Explained')\n",
        "plt.xlabel('Factor number')\n",
        "\n",
        "plt.hlines(y=95.0, xmin=0, xmax=39, color='red')\n",
        "plt.vlines(x=39.0, ymin=0, ymax=95,color='red')\n",
        "\n",
        "plt.hlines(y=90.0,xmin=0, xmax=30, color='purple')\n",
        "plt.vlines(x=30.0, ymin=0, ymax=90, color='purple')\n",
        "\n",
        "plt.hlines(y=50.0, xmin=0, xmax=7, color='green')\n",
        "plt.vlines(x=7.0,ymin=0, ymax=50, color='green')\n",
        "\n",
        "plt.ylim(0,100)\n",
        "plt.xlim(1,64)\n",
        "plt.yticks([0,50,90,95,100])\n",
        "plt.xticks([1,2,4,7,9])\n",
        "plt.style.context('seaborn-whitegrid')\n",
        "plt.plot(np.arange(1,p+1),cumulative_var)\n",
        "plt.show()"
      ],
      "metadata": {
        "id": "Zab8xcV6fGWi",
        "colab": {
          "base_uri": "https://localhost:8080/",
          "height": 618
        },
        "outputId": "48e21cd3-540e-4467-f022-100a6bd7c352"
      },
      "execution_count": 12,
      "outputs": [
        {
          "output_type": "display_data",
          "data": {
            "text/plain": [
              "<Figure size 1000x700 with 1 Axes>"
            ],
            "image/png": "[encoded data removed]"
          },
          "metadata": {}
        }
      ]
    },
    {
      "cell_type": "markdown",
      "source": [
        "##### How many components will you keep? Explain your choice. "
      ],
      "metadata": {
        "id": "E2X5QPscllr_"
      }
    },
    {
      "cell_type": "markdown",
      "source": [
        "Cette représentation graphique montre dans quelle mesure la variance totale est expliquée par les x premières composantes. La réduction de dimensionnalité est un compromis : nous voulons conserver le nombre le plus faible de facteurs, tout en expliquant encore un pourcentage important de la variance.\n",
        "Comme nous pouvons le voir sur la figure en vert, 7 composantes suffisent pour expliquer 50% de la variance. Cela semble être un bon compromis . nous voyons aussi  que 9 composantes expliquent plus que 70% de la variance, ce qui signifie que chaque composante supplémentaire ne contient que très peu d'informations.\n",
        "=========>Alors, nous avons décidé de conserver 7 composantes."
      ],
      "metadata": {
        "id": "DBsLf74ATgUR"
      }
    },
    {
      "cell_type": "markdown",
      "source": [
        "**Note:** If you do choose to keep all components in your analysis, you do not perform any dimension reduction. "
      ],
      "metadata": {
        "id": "4EX8NeBIr-cF"
      }
    },
    {
      "cell_type": "markdown",
      "source": [
        "##### Create your reduced dimensionality dataset by only keeping the components you chose to keep in the above question. "
      ],
      "metadata": {
        "id": "qytRrmdZvO89"
      }
    },
    {
      "cell_type": "code",
      "source": [
        "# When we looked at cumulative variance, we decided that the first 30 components\n",
        "# were enough to get a good representation of our data, so we create a new data \n",
        "# object and only keep the first 30 components as variables\n",
        "\n",
        "data_reduc = data_pca[:,:7]\n"
      ],
      "metadata": {
        "id": "3Wkz9YhevcUT"
      },
      "execution_count": 13,
      "outputs": []
    },
    {
      "cell_type": "markdown",
      "source": [
        "##### What is the inertia percentage explained by the components you kept *(le pourcentage d’inertie expliquée par le premier axe factoriel)*? \n",
        "\n",
        "What does it mean?"
      ],
      "metadata": {
        "id": "l4Wci1C9tA7Q"
      }
    },
    {
      "cell_type": "code",
      "source": [
        "# calculate the inertia percentage explained by the components we kept\n",
        "total_inertia = sum(pca.explained_variance_)\n",
        "kept_inertia = sum(pca.explained_variance_[:7])\n",
        "inertia_percent = kept_inertia / total_inertia * 100\n",
        "\n",
        "# print the result\n",
        "print(\"Inertia percentage explained by the components we kept is: {:.2f}%\".format(inertia_percent))\n"
      ],
      "metadata": {
        "id": "4AFOlRFDs_3B",
        "colab": {
          "base_uri": "https://localhost:8080/"
        },
        "outputId": "7e3f7383-efeb-455d-a4af-6eac75d8826f"
      },
      "execution_count": 14,
      "outputs": [
        {
          "output_type": "stream",
          "name": "stdout",
          "text": [
            "Inertia percentage explained by the components we kept is: 96.26%\n"
          ]
        }
      ]
    },
    {
      "cell_type": "markdown",
      "source": [],
      "metadata": {
        "id": "ZxdK5OpztILk"
      }
    },
    {
      "cell_type": "markdown",
      "source": [
        "##### Calculate the contribution of the first individual to the first component *(la contribution du premier individu au premier axe factoriel)*."
      ],
      "metadata": {
        "id": "2Q-G866qtI0R"
      }
    },
    {
      "cell_type": "code",
      "source": [
        "contribution = data_pca**2\n",
        "\n",
        "contribution[:,0]= contribution[:,0]/(n*corrected_variance[0])\n",
        "print(\"Contribution of first individual to first component:\", contribution[(0,0)])\n"
      ],
      "metadata": {
        "id": "mM2Zh_YItWxq",
        "colab": {
          "base_uri": "https://localhost:8080/"
        },
        "outputId": "34d076f2-3dce-474c-8b45-f9ec1651a5db"
      },
      "execution_count": 15,
      "outputs": [
        {
          "output_type": "stream",
          "name": "stdout",
          "text": [
            "Contribution of first individual to first component: 0.0011535367389123186\n"
          ]
        }
      ]
    },
    {
      "cell_type": "markdown",
      "source": [],
      "metadata": {
        "id": "egUNHUaztW6y"
      }
    },
    {
      "cell_type": "markdown",
      "source": [
        "##### Calculate the quality of representation of this individual in the map made of the first factorial axis *(la qualité de représentation de cet individu dans le plan constitué du premier axe factoriel)*. \n",
        "\n",
        "What can you deduce? "
      ],
      "metadata": {
        "id": "D2BTTizXtXIG"
      }
    },
    {
      "cell_type": "code",
      "source": [
        "X= np.sum(data_pca**2,axis=1)\n",
        "Quality_representation = data_pca**2\n",
        "Quality_representation[:,0] = Quality_representation[:,0]/X\n",
        "print(\"The quality of first individual to first component:\",Quality_representation[(0,0)])\n"
      ],
      "metadata": {
        "id": "Jm4TFfkcTLBZ",
        "colab": {
          "base_uri": "https://localhost:8080/"
        },
        "outputId": "68fa87be-61d3-4e84-b3dc-be95beedc0f2"
      },
      "execution_count": 16,
      "outputs": [
        {
          "output_type": "stream",
          "name": "stdout",
          "text": [
            "The quality of first individual to first component: 0.42527056579136935\n"
          ]
        }
      ]
    },
    {
      "cell_type": "markdown",
      "source": [],
      "metadata": {
        "id": "exdvwVkMTMhD"
      }
    },
    {
      "cell_type": "markdown",
      "metadata": {
        "id": "qNPawU-kRWcB"
      },
      "source": [
        "### Variable representation"
      ]
    },
    {
      "cell_type": "markdown",
      "source": [
        "#### Compute the correlation between the principal components and the variables "
      ],
      "metadata": {
        "id": "NDgtw_pdpnRN"
      }
    },
    {
      "cell_type": "code",
      "source": [
        "#preprocessed_data = pd.DataFrame(preprocessed_data, columns=preprocessed_data.columns)\n",
        "#Methode :n°:01\n",
        "scaled_data = pd.DataFrame(data_scaled)\n",
        "pca_data = pd.DataFrame(data_pca)\n",
        "#cc_var = pd.concat((pca_data , data_scaled), axis=1)\n",
        "\n",
        "#corr_cc_var = cc_var.corr(method=\"pearson\")\n",
        "#corr_cc_var.style.background_gradient(cmap='coolwarm')"
      ],
      "metadata": {
        "id": "kQgX7DLuBD2h"
      },
      "execution_count": 17,
      "outputs": []
    },
    {
      "cell_type": "code",
      "source": [
        "#Methode :n°:02\n",
        "# Compute the correlation of the variables with the principal axes\n",
        "variance = np.sqrt(corrected_variance)\n",
        "correlation_matrix = np.zeros((p,p))\n",
        "for k in range(p):\n",
        "  correlation_matrix[:,k] = pca.components_[k,:] * variance[k]\n"
      ],
      "metadata": {
        "id": "wXJ3aRFSXCrw"
      },
      "execution_count": 18,
      "outputs": []
    },
    {
      "cell_type": "markdown",
      "source": [
        "##### Print the correlation matrix."
      ],
      "metadata": {
        "id": "I9qpisnLS9hv"
      }
    },
    {
      "cell_type": "code",
      "execution_count": 19,
      "metadata": {
        "id": "VyVN383MegEQ",
        "colab": {
          "base_uri": "https://localhost:8080/"
        },
        "outputId": "abb6d0ae-27a6-4cbb-a43f-2d8af7aed2ab"
      },
      "outputs": [
        {
          "output_type": "stream",
          "name": "stdout",
          "text": [
            "[[-0.87799279  0.07554657 -0.16288551 -0.04998194  0.11388709  0.01765526\n",
            "   0.0651488   0.42321815]\n",
            " [ 0.43198312 -0.48347922  0.22898794  0.12383535  0.70186463 -0.09625653\n",
            "   0.07145196  0.08444852]\n",
            " [-0.04690478  0.74379734 -0.09416971  0.40652149  0.09712317 -0.51072239\n",
            "   0.03720668 -0.03211933]\n",
            " [ 0.0800597   0.77357612 -0.11036889  0.08574647  0.34795308  0.44468728\n",
            "  -0.24037754 -0.03585596]\n",
            " [ 0.72596559  0.32905577  0.12468878  0.17174869 -0.19522355  0.19734967\n",
            "   0.45764821  0.18814566]\n",
            " [ 0.20281618 -0.13622179 -0.92039979 -0.15284105  0.14468134 -0.0080797\n",
            "   0.21076938 -0.08148498]\n",
            " [ 0.22949811  0.48144997  0.18893445 -0.79347565  0.11870473 -0.18610694\n",
            "   0.05643753  0.02394497]\n",
            " [ 0.80335811 -0.09162471 -0.22993485  0.00403376 -0.17596605 -0.12621227\n",
            "  -0.42398619  0.26253558]]\n"
          ]
        }
      ],
      "source": [
        "print(correlation_matrix)"
      ]
    },
    {
      "cell_type": "markdown",
      "source": [
        "##### Plot the correlation circle"
      ],
      "metadata": {
        "id": "mj5h-7-6TB3S"
      }
    },
    {
      "cell_type": "code",
      "execution_count": 20,
      "metadata": {
        "id": "TZVt9bAoegEU",
        "colab": {
          "base_uri": "https://localhost:8080/",
          "height": 682
        },
        "outputId": "63afaea3-e730-4d20-a92b-776660d93455"
      },
      "outputs": [
        {
          "output_type": "display_data",
          "data": {
            "text/plain": [
              "<Figure size 800x800 with 1 Axes>"
            ],
            "image/png": "[encoded data removed]"
          },
          "metadata": {}
        }
      ],
      "source": [
        "# Correlation circle\n",
        "fig, axes = plt.subplots(figsize=(8,8))\n",
        "axes.set_xlim(-1,1)\n",
        "axes.set_ylim(-1,1)\n",
        "# Print the labels (variable names)\n",
        "for j in range(p):\n",
        "     plt.annotate(preprocessed_data.columns[j],(correlation_matrix[j,0],correlation_matrix[j,1]))\n",
        "\n",
        "# Add the axes\n",
        "plt.plot([-1,1],[0,0],color='silver',linestyle='-',linewidth=1)\n",
        "plt.plot([0,0],[-1,1],color='silver',linestyle='-',linewidth=1)\n",
        "\n",
        "# Add a circle\n",
        "cercle = plt.Circle((0,0),1,color='blue',fill=False)\n",
        "axes.add_artist(cercle)\n",
        "# Print the correlation circle\n",
        "plt.show()"
      ]
    },
    {
      "cell_type": "markdown",
      "source": [
        "##### Interpret the obtained results"
      ],
      "metadata": {
        "id": "Tz6BAESnTEYt"
      }
    },
    {
      "cell_type": "markdown",
      "source": [
        "À partir du graphique du cercle de corrélation généré par le code, nous pouvons voir que certaines variables sont étroitement regroupées, tandis que d'autres sont plus dispersées. Par exemple, nous pouvons voir que \"cabin\" et \"Fare\" sont étroitement regroupés du côté droite du graphique, indiquant une  corrélation positive entre ces variables. Cela a du sens, car les passagers de certains cabins   ont probablement payé plus cher pour leurs billets.\n",
        "\n",
        "Nous pouvons également voir que \"Parch\" et \"SibSp\" sont étroitement regroupés en bas à droite du graphique, indiquant une corrélation positive modérée entre ces variables. Il est possible qu'il y ait une corrélation entre ces deux variables car les familles ayant plus d'enfants auront probablement plus de frères et sœurs ou de conjoints à bord également. \n",
        "\n",
        "Inversement, nous pouvons voir que \"Pclass\" et \"Sex\" sont relativement éloignés sur le graphique, suggérant une faible corrélation entre ces variables. Cela a du sens, car le type de class et le sexe d'un passager sont probablement sans rapport.\n",
        "\n"
      ],
      "metadata": {
        "id": "v2M4KXLUTHYE"
      }
    },
    {
      "cell_type": "markdown",
      "source": [
        "## Applying clustering on the newly created dataset. "
      ],
      "metadata": {
        "id": "Wco8XUCXum56"
      }
    },
    {
      "cell_type": "markdown",
      "source": [
        "Recall in TD2_3.ipynb, you applied different clustering algorithms on your dataset and analyzed which method gave the best results on your dataset."
      ],
      "metadata": {
        "id": "g6nBalYFutE7"
      }
    },
    {
      "cell_type": "markdown",
      "source": [
        "##### Apply this clustering method to the dataset you obtained after applying PCA and performing dimension reduction. "
      ],
      "metadata": {
        "id": "UjpCWeLnS1qt"
      }
    },
    {
      "cell_type": "code",
      "source": [
        "from sklearn.cluster import SpectralClustering\n",
        "from sklearn.neighbors import kneighbors_graph\n",
        "\n",
        "n_neighbors = 10\n",
        "adjacency = kneighbors_graph(preprocessed_data, n_neighbors=n_neighbors, mode='connectivity', include_self=True)\n",
        "\n",
        "# Apply spectral clustering with nearest neighbors\n",
        "n_clusters = 2\n",
        "spectral = SpectralClustering(n_clusters=n_clusters, affinity='nearest_neighbors', assign_labels='kmeans', random_state=0)\n",
        "spectral.fit(preprocessed_data)\n",
        "predicted_labels = spectral.labels_"
      ],
      "metadata": {
        "id": "1zc6KNBeusTt",
        "colab": {
          "base_uri": "https://localhost:8080/"
        },
        "outputId": "9caf17b7-7cc4-4aa0-8998-7b6b95571dce"
      },
      "execution_count": 21,
      "outputs": [
        {
          "output_type": "stream",
          "name": "stderr",
          "text": [
            "/usr/local/lib/python3.9/dist-packages/sklearn/base.py:439: UserWarning: X does not have valid feature names, but NearestNeighbors was fitted with feature names\n",
            "  warnings.warn(\n"
          ]
        }
      ]
    },
    {
      "cell_type": "code",
      "source": [
        "from sklearn.metrics import adjusted_rand_score\n",
        "from sklearn.metrics import completeness_score \n",
        "from sklearn.metrics import homogeneity_score\n",
        "from sklearn.metrics import v_measure_score\n"
      ],
      "metadata": {
        "id": "qLtdqxP72gNB"
      },
      "execution_count": 22,
      "outputs": []
    },
    {
      "cell_type": "markdown",
      "source": [
        "##### Using the same metrics you used in TD2_3.ipynb, compare the results obtained with this method to the real classes. "
      ],
      "metadata": {
        "id": "7rMQH3J7vwB0"
      }
    },
    {
      "cell_type": "code",
      "source": [
        "ari = adjusted_rand_score(true_labels, predicted_labels)\n",
        "print(\"Adjusted Rand Index:\", ari)"
      ],
      "metadata": {
        "id": "l7gU4nZzv77M",
        "colab": {
          "base_uri": "https://localhost:8080/"
        },
        "outputId": "a0eb620d-e20f-4498-b173-31e4aefe8ed5"
      },
      "execution_count": 23,
      "outputs": [
        {
          "output_type": "stream",
          "name": "stdout",
          "text": [
            "Adjusted Rand Index: -0.0008927137467439263\n"
          ]
        }
      ]
    },
    {
      "cell_type": "code",
      "source": [
        "homo = homogeneity_score(true_labels, predicted_labels)\n",
        "print(\"Homogeneity Score:\", homo)"
      ],
      "metadata": {
        "id": "38QpAQtZv8gm",
        "colab": {
          "base_uri": "https://localhost:8080/"
        },
        "outputId": "6ff1e1c1-3f44-4827-b30b-5ee8afe8436d"
      },
      "execution_count": 24,
      "outputs": [
        {
          "output_type": "stream",
          "name": "stdout",
          "text": [
            "Homogeneity Score: 5.174880085546831e-05\n"
          ]
        }
      ]
    },
    {
      "cell_type": "code",
      "source": [
        "v_meas = v_measure_score(true_labels, predicted_labels)\n",
        "print(\"V-measure Score:\", v_meas)"
      ],
      "metadata": {
        "id": "C0_bYM4sv9Jt",
        "colab": {
          "base_uri": "https://localhost:8080/"
        },
        "outputId": "d0dedeb4-e321-4ba1-a117-4e56b7345f41"
      },
      "execution_count": 25,
      "outputs": [
        {
          "output_type": "stream",
          "name": "stdout",
          "text": [
            "V-measure Score: 5.072646203568534e-05\n"
          ]
        }
      ]
    },
    {
      "cell_type": "markdown",
      "source": [
        "On remarque que les résultats sont inférieurs par rapport aux résultats de la partie 1, malgré l'utilisation de la meilleure méthode qui nous a donné les meilleurs résultats dans la partie 1. "
      ],
      "metadata": {
        "id": "cAkGX-Qf6lEX"
      }
    },
    {
      "cell_type": "markdown",
      "source": [
        "##### In your opinion, did dimensionality reduction help you in getting better results or not? "
      ],
      "metadata": {
        "id": "rhze0hqxv-YD"
      }
    },
    {
      "cell_type": "markdown",
      "source": [
        "d'apres la remarque de question precedents Cela suggère que la PCA ne donne pas toujours les meilleurs résultats pour toutes les données. (c 'est juste un point de vue )\n"
      ],
      "metadata": {
        "id": "uk5jlzG_wJnr"
      }
    },
    {
      "cell_type": "markdown",
      "source": [
        "## Part 2: Apply CCA\n",
        "\n",
        "Next steps:\n",
        "   - Apply CCA /!\\ Don't forget to split the dataset into two groups,i.e., p=3 and q=3\n",
        "   - Analyze the correlation circle *(graphe des variables)*\n",
        "   - Analyze the observation graph *(graphe des individus)*\n",
        "\n",
        "**<font color='red'>N.B:</font>** For the purpose of this part of the project, we will scale use continuous and numerical variables. \n",
        "CCA is designed for continuous variables, so theoretically you should only apply it to the data that was already continuous in your original dataset. To make this project easier and more comparable between groups, we have decided to let you apply it on all features."
      ],
      "metadata": {
        "id": "l0AlAlgJwTkI"
      }
    },
    {
      "cell_type": "markdown",
      "source": [
        "### Choice of the two groups"
      ],
      "metadata": {
        "id": "WJeqzQ9HPaIc"
      }
    },
    {
      "cell_type": "markdown",
      "source": [
        "##### Show the correlation matrix of the data"
      ],
      "metadata": {
        "id": "V3MXv0b6Mad7"
      }
    },
    {
      "cell_type": "code",
      "source": [
        "\n",
        "data_scaled = pd.DataFrame(data_scaled , columns=preprocessed_data.columns)\n"
      ],
      "metadata": {
        "id": "QJINPFZMOFwN"
      },
      "execution_count": 26,
      "outputs": []
    },
    {
      "cell_type": "code",
      "source": [
        "corr = data_scaled.corr() \n",
        "corr"
      ],
      "metadata": {
        "id": "DxI6BPldMZ9S",
        "colab": {
          "base_uri": "https://localhost:8080/",
          "height": 300
        },
        "outputId": "fb5789f0-c20d-4c34-fe0a-435f36855a03"
      },
      "execution_count": 27,
      "outputs": [
        {
          "output_type": "execute_result",
          "data": {
            "text/plain": [
              "          Pclass       Age     SibSp     Parch      Fare      Name       Sex  \\\n",
              "Pclass  1.000000 -0.339898  0.083081  0.018443 -0.549500 -0.035144 -0.131900   \n",
              "Age    -0.339898  1.000000 -0.233296 -0.172482  0.096688  0.034212 -0.081163   \n",
              "SibSp   0.083081 -0.233296  1.000000  0.414838  0.159651 -0.057527  0.114631   \n",
              "Parch   0.018443 -0.172482  0.414838  1.000000  0.216225 -0.001652  0.245489   \n",
              "Fare   -0.549500  0.096688  0.159651  0.216225  1.000000  0.012658  0.182333   \n",
              "Name   -0.035144  0.034212 -0.057527 -0.001652  0.012658  1.000000 -0.042939   \n",
              "Sex    -0.131900 -0.081163  0.114631  0.245489  0.182333 -0.042939  1.000000   \n",
              "Cabin  -0.612417  0.219211 -0.059244 -0.005675  0.389012  0.250672  0.078396   \n",
              "\n",
              "           Cabin  \n",
              "Pclass -0.612417  \n",
              "Age     0.219211  \n",
              "SibSp  -0.059244  \n",
              "Parch  -0.005675  \n",
              "Fare    0.389012  \n",
              "Name    0.250672  \n",
              "Sex     0.078396  \n",
              "Cabin   1.000000  "
            ],
            "text/html": [
              "\n",
              "  <div id=\"df-c0d6d698-90f2-4abf-a8e3-f9037ca3a048\">\n",
              "    <div class=\"colab-df-container\">\n",
              "      <div>\n",
              "<style scoped>\n",
              "    .dataframe tbody tr th:only-of-type {\n",
              "        vertical-align: middle;\n",
              "    }\n",
              "\n",
              "    .dataframe tbody tr th {\n",
              "        vertical-align: top;\n",
              "    }\n",
              "\n",
              "    .dataframe thead th {\n",
              "        text-align: right;\n",
              "    }\n",
              "</style>\n",
              "<table border=\"1\" class=\"dataframe\">\n",
              "  <thead>\n",
              "    <tr style=\"text-align: right;\">\n",
              "      <th></th>\n",
              "      <th>Pclass</th>\n",
              "      <th>Age</th>\n",
              "      <th>SibSp</th>\n",
              "      <th>Parch</th>\n",
              "      <th>Fare</th>\n",
              "      <th>Name</th>\n",
              "      <th>Sex</th>\n",
              "      <th>Cabin</th>\n",
              "    </tr>\n",
              "  </thead>\n",
              "  <tbody>\n",
              "    <tr>\n",
              "      <th>Pclass</th>\n",
              "      <td>1.000000</td>\n",
              "      <td>-0.339898</td>\n",
              "      <td>0.083081</td>\n",
              "      <td>0.018443</td>\n",
              "      <td>-0.549500</td>\n",
              "      <td>-0.035144</td>\n",
              "      <td>-0.131900</td>\n",
              "      <td>-0.612417</td>\n",
              "    </tr>\n",
              "    <tr>\n",
              "      <th>Age</th>\n",
              "      <td>-0.339898</td>\n",
              "      <td>1.000000</td>\n",
              "      <td>-0.233296</td>\n",
              "      <td>-0.172482</td>\n",
              "      <td>0.096688</td>\n",
              "      <td>0.034212</td>\n",
              "      <td>-0.081163</td>\n",
              "      <td>0.219211</td>\n",
              "    </tr>\n",
              "    <tr>\n",
              "      <th>SibSp</th>\n",
              "      <td>0.083081</td>\n",
              "      <td>-0.233296</td>\n",
              "      <td>1.000000</td>\n",
              "      <td>0.414838</td>\n",
              "      <td>0.159651</td>\n",
              "      <td>-0.057527</td>\n",
              "      <td>0.114631</td>\n",
              "      <td>-0.059244</td>\n",
              "    </tr>\n",
              "    <tr>\n",
              "      <th>Parch</th>\n",
              "      <td>0.018443</td>\n",
              "      <td>-0.172482</td>\n",
              "      <td>0.414838</td>\n",
              "      <td>1.000000</td>\n",
              "      <td>0.216225</td>\n",
              "      <td>-0.001652</td>\n",
              "      <td>0.245489</td>\n",
              "      <td>-0.005675</td>\n",
              "    </tr>\n",
              "    <tr>\n",
              "      <th>Fare</th>\n",
              "      <td>-0.549500</td>\n",
              "      <td>0.096688</td>\n",
              "      <td>0.159651</td>\n",
              "      <td>0.216225</td>\n",
              "      <td>1.000000</td>\n",
              "      <td>0.012658</td>\n",
              "      <td>0.182333</td>\n",
              "      <td>0.389012</td>\n",
              "    </tr>\n",
              "    <tr>\n",
              "      <th>Name</th>\n",
              "      <td>-0.035144</td>\n",
              "      <td>0.034212</td>\n",
              "      <td>-0.057527</td>\n",
              "      <td>-0.001652</td>\n",
              "      <td>0.012658</td>\n",
              "      <td>1.000000</td>\n",
              "      <td>-0.042939</td>\n",
              "      <td>0.250672</td>\n",
              "    </tr>\n",
              "    <tr>\n",
              "      <th>Sex</th>\n",
              "      <td>-0.131900</td>\n",
              "      <td>-0.081163</td>\n",
              "      <td>0.114631</td>\n",
              "      <td>0.245489</td>\n",
              "      <td>0.182333</td>\n",
              "      <td>-0.042939</td>\n",
              "      <td>1.000000</td>\n",
              "      <td>0.078396</td>\n",
              "    </tr>\n",
              "    <tr>\n",
              "      <th>Cabin</th>\n",
              "      <td>-0.612417</td>\n",
              "      <td>0.219211</td>\n",
              "      <td>-0.059244</td>\n",
              "      <td>-0.005675</td>\n",
              "      <td>0.389012</td>\n",
              "      <td>0.250672</td>\n",
              "      <td>0.078396</td>\n",
              "      <td>1.000000</td>\n",
              "    </tr>\n",
              "  </tbody>\n",
              "</table>\n",
              "</div>\n",
              "      <button class=\"colab-df-convert\" onclick=\"convertToInteractive('df-c0d6d698-90f2-4abf-a8e3-f9037ca3a048')\"\n",
              "              title=\"Convert this dataframe to an interactive table.\"\n",
              "              style=\"display:none;\">\n",
              "        \n",
              "  <svg xmlns=\"http://www.w3.org/2000/svg\" height=\"24px\"viewBox=\"0 0 24 24\"\n",
              "       width=\"24px\">\n",
              "    <path d=\"M0 0h24v24H0V0z\" fill=\"none\"/>\n",
              "    <path d=\"M18.56 5.44l.94 2.06.94-2.06 2.06-.94-2.06-.94-.94-2.06-.94 2.06-2.06.94zm-11 1L8.5 8.5l.94-2.06 2.06-.94-2.06-.94L8.5 2.5l-.94 2.06-2.06.94zm10 10l.94 2.06.94-2.06 2.06-.94-2.06-.94-.94-2.06-.94 2.06-2.06.94z\"/><path d=\"M17.41 7.96l-1.37-1.37c-.4-.4-.92-.59-1.43-.59-.52 0-1.04.2-1.43.59L10.3 9.45l-7.72 7.72c-.78.78-.78 2.05 0 2.83L4 21.41c.39.39.9.59 1.41.59.51 0 1.02-.2 1.41-.59l7.78-7.78 2.81-2.81c.8-.78.8-2.07 0-2.86zM5.41 20L4 18.59l7.72-7.72 1.47 1.35L5.41 20z\"/>\n",
              "  </svg>\n",
              "      </button>\n",
              "      \n",
              "  <style>\n",
              "    .colab-df-container {\n",
              "      display:flex;\n",
              "      flex-wrap:wrap;\n",
              "      gap: 12px;\n",
              "    }\n",
              "\n",
              "    .colab-df-convert {\n",
              "      background-color: #E8F0FE;\n",
              "      border: none;\n",
              "      border-radius: 50%;\n",
              "      cursor: pointer;\n",
              "      display: none;\n",
              "      fill: #1967D2;\n",
              "      height: 32px;\n",
              "      padding: 0 0 0 0;\n",
              "      width: 32px;\n",
              "    }\n",
              "\n",
              "    .colab-df-convert:hover {\n",
              "      background-color: #E2EBFA;\n",
              "      box-shadow: 0px 1px 2px rgba(60, 64, 67, 0.3), 0px 1px 3px 1px rgba(60, 64, 67, 0.15);\n",
              "      fill: #174EA6;\n",
              "    }\n",
              "\n",
              "    [theme=dark] .colab-df-convert {\n",
              "      background-color: #3B4455;\n",
              "      fill: #D2E3FC;\n",
              "    }\n",
              "\n",
              "    [theme=dark] .colab-df-convert:hover {\n",
              "      background-color: #434B5C;\n",
              "      box-shadow: 0px 1px 3px 1px rgba(0, 0, 0, 0.15);\n",
              "      filter: drop-shadow(0px 1px 2px rgba(0, 0, 0, 0.3));\n",
              "      fill: #FFFFFF;\n",
              "    }\n",
              "  </style>\n",
              "\n",
              "      <script>\n",
              "        const buttonEl =\n",
              "          document.querySelector('#df-c0d6d698-90f2-4abf-a8e3-f9037ca3a048 button.colab-df-convert');\n",
              "        buttonEl.style.display =\n",
              "          google.colab.kernel.accessAllowed ? 'block' : 'none';\n",
              "\n",
              "        async function convertToInteractive(key) {\n",
              "          const element = document.querySelector('#df-c0d6d698-90f2-4abf-a8e3-f9037ca3a048');\n",
              "          const dataTable =\n",
              "            await google.colab.kernel.invokeFunction('convertToInteractive',\n",
              "                                                     [key], {});\n",
              "          if (!dataTable) return;\n",
              "\n",
              "          const docLinkHtml = 'Like what you see? Visit the ' +\n",
              "            '<a target=\"_blank\" href=https://colab.research.google.com/notebooks/data_table.ipynb>data table notebook</a>'\n",
              "            + ' to learn more about interactive tables.';\n",
              "          element.innerHTML = '';\n",
              "          dataTable['output_type'] = 'display_data';\n",
              "          await google.colab.output.renderOutput(dataTable, element);\n",
              "          const docLink = document.createElement('div');\n",
              "          docLink.innerHTML = docLinkHtml;\n",
              "          element.appendChild(docLink);\n",
              "        }\n",
              "      </script>\n",
              "    </div>\n",
              "  </div>\n",
              "  "
            ]
          },
          "metadata": {},
          "execution_count": 27
        }
      ]
    },
    {
      "cell_type": "markdown",
      "source": [
        "##### Split your data into two groups p and q"
      ],
      "metadata": {
        "id": "yIyGmn6AK_MQ"
      }
    },
    {
      "cell_type": "code",
      "source": [
        "X_Demographic  = data_scaled[[\"Age\", \"Sex\",\"SibSp\",\"Parch\"]]\n",
        "X_FareClass= data_scaled[[\"Fare\", \"Pclass\",\"Cabin\"]]"
      ],
      "metadata": {
        "id": "BP23DikuwV15"
      },
      "execution_count": 28,
      "outputs": []
    },
    {
      "cell_type": "markdown",
      "source": [
        "##### How did you choose your two groups? "
      ],
      "metadata": {
        "id": "XfQA05BpSqAp"
      }
    },
    {
      "cell_type": "markdown",
      "source": [
        "\n",
        "Nous avons choisi de diviser les variables du jeu de données Titanic en deux groupes: les variables démographiques (âge et sexe) et les variables liées au tarif et à la classe de billet (tarif et classe). Cette division nous permet de voir comment les variables démographiques peuvent influencer les choix liés au tarif et à la classe de billet. Par exemple, nous pourrions supposer que les passagers plus âgés et de sexe différent pourraient avoir des préférences différentes en matière de tarification et de classe de billet par rapport aux passagers plus jeunes ou de même sexe. Cette division nous permet de mieux comprendre comment les variables du groupe démographique peuvent interagir avec les variables du groupe tarifaire et de la classe de billet pour influencer les choix des passagers dans le Titanic."
      ],
      "metadata": {
        "id": "pthtVHGcNZzx"
      }
    },
    {
      "cell_type": "markdown",
      "source": [
        "### Apply CCA\n",
        "\n",
        "CCA with scikit-learn uses a very similar process to other preprocessing functions that come with scikit-learn. We instantiate a CCA object, find the  components (linear combinations of the variables) using the fit method, then apply the dimensionality reduction by calling transform().\n",
        "\n",
        "We can also specify how many components we want to keep when creating the CCA object."
      ],
      "metadata": {
        "id": "7pcAD6c6NV6P"
      }
    },
    {
      "cell_type": "markdown",
      "source": [
        "Check the scikit-learn documentation for CCA. Do you need to use the scaled or unscaled data to apply CCA? \n",
        "\n"
      ],
      "metadata": {
        "id": "37xi_b3xLj56"
      }
    },
    {
      "cell_type": "markdown",
      "source": [
        "J'ai remarqué dans la documentation du CCA de scikit-learn qu'il existe un paramètre \"scale\", mais lorsque j'ai vérifié l'exemple fourni, je me suis rendu compte qu'il n'était pas utilisé. Je pense donc que l'utilisation de le scale  est recommandée mais pas obligatoire."
      ],
      "metadata": {
        "id": "YaTi6tP8NVXA"
      }
    },
    {
      "cell_type": "markdown",
      "source": [
        "##### Apply CCA "
      ],
      "metadata": {
        "id": "Gg-dRL7TPolS"
      }
    },
    {
      "cell_type": "code",
      "source": [
        "from sklearn.cross_decomposition import CCA \n",
        "\n",
        "cca = CCA(n_components=2, scale=False)\n",
        "cca.fit(X_Demographic,X_FareClass)\n",
        "\n",
        "U_, V_ = cca.transform(X_Demographic,X_FareClass)"
      ],
      "metadata": {
        "id": "qBSdOeZqLm2I"
      },
      "execution_count": 29,
      "outputs": []
    },
    {
      "cell_type": "markdown",
      "source": [
        "##### Print the first two components"
      ],
      "metadata": {
        "id": "IbUX-Ya1SaDM"
      }
    },
    {
      "cell_type": "code",
      "source": [
        "print(U_[:2,:])\n",
        "print(V_[:2,:])"
      ],
      "metadata": {
        "id": "zkgLEoMqLnQe",
        "colab": {
          "base_uri": "https://localhost:8080/"
        },
        "outputId": "867646d3-072f-43c6-e410-9127f148849f"
      },
      "execution_count": 30,
      "outputs": [
        {
          "output_type": "stream",
          "name": "stdout",
          "text": [
            "[[-0.7794525  -0.65271003]\n",
            " [ 1.02602564  0.78138565]]\n",
            "[[-0.60864873 -0.38235186]\n",
            " [ 1.12600307  0.64892326]]\n"
          ]
        }
      ]
    },
    {
      "cell_type": "code",
      "source": [
        "data_cca = pd.DataFrame({\"U_1\": U_[:,0], \"U_2\": U_[:,1],\n",
        "                         \"V_1\": V_[:,0], \"V_2\": V_[:,1]})"
      ],
      "metadata": {
        "id": "aJuN91DTmV6T"
      },
      "execution_count": 31,
      "outputs": []
    },
    {
      "cell_type": "markdown",
      "source": [
        "##### Print the correlation matrix between the first two components"
      ],
      "metadata": {
        "id": "0WBji3JxLoKg"
      }
    },
    {
      "cell_type": "code",
      "source": [
        "corr_cca = data_cca.corr()\n",
        "corr_cca.style.background_gradient(cmap='coolwarm') "
      ],
      "metadata": {
        "id": "4iNLaVLdOh7T",
        "colab": {
          "base_uri": "https://localhost:8080/",
          "height": 174
        },
        "outputId": "a28b7ca8-1bfc-43af-eb41-ea53f0d5ce65"
      },
      "execution_count": 32,
      "outputs": [
        {
          "output_type": "execute_result",
          "data": {
            "text/plain": [
              "<pandas.io.formats.style.Styler at 0x7fdb8e993c40>"
            ],
            "text/html": [
              "<style type=\"text/css\">\n",
              "#T_46005_row0_col0, #T_46005_row1_col1, #T_46005_row2_col2, #T_46005_row3_col3 {\n",
              "  background-color: #b40426;\n",
              "  color: #f1f1f1;\n",
              "}\n",
              "#T_46005_row0_col1, #T_46005_row0_col3, #T_46005_row1_col0, #T_46005_row1_col2, #T_46005_row2_col1, #T_46005_row2_col3, #T_46005_row3_col0, #T_46005_row3_col2 {\n",
              "  background-color: #3b4cc0;\n",
              "  color: #f1f1f1;\n",
              "}\n",
              "#T_46005_row0_col2, #T_46005_row2_col0 {\n",
              "  background-color: #bcd2f7;\n",
              "  color: #000000;\n",
              "}\n",
              "#T_46005_row1_col3, #T_46005_row3_col1 {\n",
              "  background-color: #a1c0ff;\n",
              "  color: #000000;\n",
              "}\n",
              "</style>\n",
              "<table id=\"T_46005\" class=\"dataframe\">\n",
              "  <thead>\n",
              "    <tr>\n",
              "      <th class=\"blank level0\" >&nbsp;</th>\n",
              "      <th id=\"T_46005_level0_col0\" class=\"col_heading level0 col0\" >U_1</th>\n",
              "      <th id=\"T_46005_level0_col1\" class=\"col_heading level0 col1\" >U_2</th>\n",
              "      <th id=\"T_46005_level0_col2\" class=\"col_heading level0 col2\" >V_1</th>\n",
              "      <th id=\"T_46005_level0_col3\" class=\"col_heading level0 col3\" >V_2</th>\n",
              "    </tr>\n",
              "  </thead>\n",
              "  <tbody>\n",
              "    <tr>\n",
              "      <th id=\"T_46005_level0_row0\" class=\"row_heading level0 row0\" >U_1</th>\n",
              "      <td id=\"T_46005_row0_col0\" class=\"data row0 col0\" >1.000000</td>\n",
              "      <td id=\"T_46005_row0_col1\" class=\"data row0 col1\" >-0.000000</td>\n",
              "      <td id=\"T_46005_row0_col2\" class=\"data row0 col2\" >0.387090</td>\n",
              "      <td id=\"T_46005_row0_col3\" class=\"data row0 col3\" >-0.000000</td>\n",
              "    </tr>\n",
              "    <tr>\n",
              "      <th id=\"T_46005_level0_row1\" class=\"row_heading level0 row1\" >U_2</th>\n",
              "      <td id=\"T_46005_row1_col0\" class=\"data row1 col0\" >-0.000000</td>\n",
              "      <td id=\"T_46005_row1_col1\" class=\"data row1 col1\" >1.000000</td>\n",
              "      <td id=\"T_46005_row1_col2\" class=\"data row1 col2\" >-0.000172</td>\n",
              "      <td id=\"T_46005_row1_col3\" class=\"data row1 col3\" >0.304968</td>\n",
              "    </tr>\n",
              "    <tr>\n",
              "      <th id=\"T_46005_level0_row2\" class=\"row_heading level0 row2\" >V_1</th>\n",
              "      <td id=\"T_46005_row2_col0\" class=\"data row2 col0\" >0.387090</td>\n",
              "      <td id=\"T_46005_row2_col1\" class=\"data row2 col1\" >-0.000172</td>\n",
              "      <td id=\"T_46005_row2_col2\" class=\"data row2 col2\" >1.000000</td>\n",
              "      <td id=\"T_46005_row2_col3\" class=\"data row2 col3\" >-0.000000</td>\n",
              "    </tr>\n",
              "    <tr>\n",
              "      <th id=\"T_46005_level0_row3\" class=\"row_heading level0 row3\" >V_2</th>\n",
              "      <td id=\"T_46005_row3_col0\" class=\"data row3 col0\" >-0.000000</td>\n",
              "      <td id=\"T_46005_row3_col1\" class=\"data row3 col1\" >0.304968</td>\n",
              "      <td id=\"T_46005_row3_col2\" class=\"data row3 col2\" >-0.000000</td>\n",
              "      <td id=\"T_46005_row3_col3\" class=\"data row3 col3\" >1.000000</td>\n",
              "    </tr>\n",
              "  </tbody>\n",
              "</table>\n"
            ]
          },
          "metadata": {},
          "execution_count": 32
        }
      ]
    },
    {
      "cell_type": "markdown",
      "source": [
        "##### What can you conclude? "
      ],
      "metadata": {
        "id": "xGZrj19SOinb"
      }
    },
    {
      "cell_type": "markdown",
      "source": [
        "D'après la matrice de corrélation que nous avons  fournie, il semble qu'il existe une corrélation positive (0,37) entre la première composante des variables démographiques (U_1) et la première composante des variables de tarif et de classe (V_1).Cela suggère qu'il peut y avoir une relation entre ces deux groupes de variables, bien qu'elle ne soit pas nécessairement causale. La matrice de corrélation montre également une corrélation positive faible (0,16) entre la deuxième composante des variables de tarif et de classe (V_2) et la deuxième composante des variables démographiques (U_2)."
      ],
      "metadata": {
        "id": "yfBxyH2ZOt-S"
      }
    },
    {
      "cell_type": "markdown",
      "source": [
        "### Results visualization and interpretation "
      ],
      "metadata": {
        "id": "-NqYbPUGOuw8"
      }
    },
    {
      "cell_type": "markdown",
      "source": [
        "#### Variable representation"
      ],
      "metadata": {
        "id": "d0UK2piZQyGE"
      }
    },
    {
      "cell_type": "markdown",
      "source": [
        "##### Compute the correlation between the components and the variables\n",
        "\n",
        "[*aide: utiliser les matrices centrées-réduites*]"
      ],
      "metadata": {
        "id": "Pn9WxgzEOuzp"
      }
    },
    {
      "cell_type": "code",
      "source": [
        "cc_var = pd.concat((data_cca, data_scaled), axis=1)\n",
        "\n",
        "corr_cc_var = cc_var.corr(method=\"pearson\")\n",
        "corr_cc_var.style.background_gradient(cmap='coolwarm')"
      ],
      "metadata": {
        "id": "GEtx_RR-OtN6",
        "colab": {
          "base_uri": "https://localhost:8080/",
          "height": 445
        },
        "outputId": "a7df7306-6761-468e-f6d9-ca20dc934cee"
      },
      "execution_count": 33,
      "outputs": [
        {
          "output_type": "execute_result",
          "data": {
            "text/plain": [
              "<pandas.io.formats.style.Styler at 0x7fdb8e9cadc0>"
            ],
            "text/html": [
              "<style type=\"text/css\">\n",
              "#T_5f2bf_row0_col0, #T_5f2bf_row1_col1, #T_5f2bf_row2_col2, #T_5f2bf_row3_col3, #T_5f2bf_row4_col4, #T_5f2bf_row5_col5, #T_5f2bf_row6_col6, #T_5f2bf_row7_col7, #T_5f2bf_row8_col8, #T_5f2bf_row9_col9, #T_5f2bf_row10_col10, #T_5f2bf_row11_col11 {\n",
              "  background-color: #b40426;\n",
              "  color: #f1f1f1;\n",
              "}\n",
              "#T_5f2bf_row0_col1, #T_5f2bf_row2_col1, #T_5f2bf_row2_col9, #T_5f2bf_row5_col7 {\n",
              "  background-color: #5a78e4;\n",
              "  color: #f1f1f1;\n",
              "}\n",
              "#T_5f2bf_row0_col2 {\n",
              "  background-color: #f7b396;\n",
              "  color: #000000;\n",
              "}\n",
              "#T_5f2bf_row0_col3, #T_5f2bf_row2_col3, #T_5f2bf_row3_col5 {\n",
              "  background-color: #94b6ff;\n",
              "  color: #000000;\n",
              "}\n",
              "#T_5f2bf_row0_col4 {\n",
              "  background-color: #9dbdff;\n",
              "  color: #000000;\n",
              "}\n",
              "#T_5f2bf_row0_col5 {\n",
              "  background-color: #ca3b37;\n",
              "  color: #f1f1f1;\n",
              "}\n",
              "#T_5f2bf_row0_col6, #T_5f2bf_row0_col7, #T_5f2bf_row2_col4, #T_5f2bf_row4_col1, #T_5f2bf_row4_col2, #T_5f2bf_row4_col3, #T_5f2bf_row4_col5, #T_5f2bf_row4_col8, #T_5f2bf_row4_col10, #T_5f2bf_row4_col11, #T_5f2bf_row6_col0, #T_5f2bf_row6_col9 {\n",
              "  background-color: #3b4cc0;\n",
              "  color: #f1f1f1;\n",
              "}\n",
              "#T_5f2bf_row0_col8 {\n",
              "  background-color: #c1d4f4;\n",
              "  color: #000000;\n",
              "}\n",
              "#T_5f2bf_row0_col9, #T_5f2bf_row6_col5, #T_5f2bf_row9_col10 {\n",
              "  background-color: #536edd;\n",
              "  color: #f1f1f1;\n",
              "}\n",
              "#T_5f2bf_row0_col10 {\n",
              "  background-color: #98b9ff;\n",
              "  color: #000000;\n",
              "}\n",
              "#T_5f2bf_row0_col11, #T_5f2bf_row2_col5 {\n",
              "  background-color: #e2dad5;\n",
              "  color: #000000;\n",
              "}\n",
              "#T_5f2bf_row1_col0, #T_5f2bf_row3_col0 {\n",
              "  background-color: #a1c0ff;\n",
              "  color: #000000;\n",
              "}\n",
              "#T_5f2bf_row1_col2, #T_5f2bf_row2_col8, #T_5f2bf_row3_col2 {\n",
              "  background-color: #d8dce2;\n",
              "  color: #000000;\n",
              "}\n",
              "#T_5f2bf_row1_col3, #T_5f2bf_row7_col8 {\n",
              "  background-color: #dbdcde;\n",
              "  color: #000000;\n",
              "}\n",
              "#T_5f2bf_row1_col4, #T_5f2bf_row3_col7, #T_5f2bf_row7_col2 {\n",
              "  background-color: #c6d6f1;\n",
              "  color: #000000;\n",
              "}\n",
              "#T_5f2bf_row1_col5 {\n",
              "  background-color: #a5c3fe;\n",
              "  color: #000000;\n",
              "}\n",
              "#T_5f2bf_row1_col6 {\n",
              "  background-color: #f39778;\n",
              "  color: #000000;\n",
              "}\n",
              "#T_5f2bf_row1_col7 {\n",
              "  background-color: #e36c55;\n",
              "  color: #f1f1f1;\n",
              "}\n",
              "#T_5f2bf_row1_col8 {\n",
              "  background-color: #e9d5cb;\n",
              "  color: #000000;\n",
              "}\n",
              "#T_5f2bf_row1_col9 {\n",
              "  background-color: #4257c9;\n",
              "  color: #f1f1f1;\n",
              "}\n",
              "#T_5f2bf_row1_col10 {\n",
              "  background-color: #f3c7b1;\n",
              "  color: #000000;\n",
              "}\n",
              "#T_5f2bf_row1_col11, #T_5f2bf_row10_col7 {\n",
              "  background-color: #c7d7f0;\n",
              "  color: #000000;\n",
              "}\n",
              "#T_5f2bf_row2_col0 {\n",
              "  background-color: #edd1c2;\n",
              "  color: #000000;\n",
              "}\n",
              "#T_5f2bf_row2_col6, #T_5f2bf_row11_col10 {\n",
              "  background-color: #7699f6;\n",
              "  color: #f1f1f1;\n",
              "}\n",
              "#T_5f2bf_row2_col7, #T_5f2bf_row5_col6 {\n",
              "  background-color: #6788ee;\n",
              "  color: #f1f1f1;\n",
              "}\n",
              "#T_5f2bf_row2_col10 {\n",
              "  background-color: #7597f6;\n",
              "  color: #f1f1f1;\n",
              "}\n",
              "#T_5f2bf_row2_col11 {\n",
              "  background-color: #f49a7b;\n",
              "  color: #000000;\n",
              "}\n",
              "#T_5f2bf_row3_col1, #T_5f2bf_row7_col11 {\n",
              "  background-color: #b9d0f9;\n",
              "  color: #000000;\n",
              "}\n",
              "#T_5f2bf_row3_col4 {\n",
              "  background-color: #9abbff;\n",
              "  color: #000000;\n",
              "}\n",
              "#T_5f2bf_row3_col6, #T_5f2bf_row11_col3 {\n",
              "  background-color: #cdd9ec;\n",
              "  color: #000000;\n",
              "}\n",
              "#T_5f2bf_row3_col8, #T_5f2bf_row8_col3 {\n",
              "  background-color: #b8122a;\n",
              "  color: #f1f1f1;\n",
              "}\n",
              "#T_5f2bf_row3_col9 {\n",
              "  background-color: #465ecf;\n",
              "  color: #f1f1f1;\n",
              "}\n",
              "#T_5f2bf_row3_col10 {\n",
              "  background-color: #93b5fe;\n",
              "  color: #000000;\n",
              "}\n",
              "#T_5f2bf_row3_col11, #T_5f2bf_row6_col4 {\n",
              "  background-color: #e3d9d3;\n",
              "  color: #000000;\n",
              "}\n",
              "#T_5f2bf_row4_col0 {\n",
              "  background-color: #4b64d5;\n",
              "  color: #f1f1f1;\n",
              "}\n",
              "#T_5f2bf_row4_col6, #T_5f2bf_row9_col8 {\n",
              "  background-color: #b3cdfb;\n",
              "  color: #000000;\n",
              "}\n",
              "#T_5f2bf_row4_col7 {\n",
              "  background-color: #8caffe;\n",
              "  color: #000000;\n",
              "}\n",
              "#T_5f2bf_row4_col9 {\n",
              "  background-color: #4055c8;\n",
              "  color: #f1f1f1;\n",
              "}\n",
              "#T_5f2bf_row5_col0 {\n",
              "  background-color: #c83836;\n",
              "  color: #f1f1f1;\n",
              "}\n",
              "#T_5f2bf_row5_col1 {\n",
              "  background-color: #7396f5;\n",
              "  color: #f1f1f1;\n",
              "}\n",
              "#T_5f2bf_row5_col2 {\n",
              "  background-color: #f7b89c;\n",
              "  color: #000000;\n",
              "}\n",
              "#T_5f2bf_row5_col3, #T_5f2bf_row11_col9 {\n",
              "  background-color: #9bbcff;\n",
              "  color: #000000;\n",
              "}\n",
              "#T_5f2bf_row5_col4 {\n",
              "  background-color: #9fbfff;\n",
              "  color: #000000;\n",
              "}\n",
              "#T_5f2bf_row5_col8, #T_5f2bf_row6_col3, #T_5f2bf_row8_col6, #T_5f2bf_row11_col5 {\n",
              "  background-color: #c5d6f2;\n",
              "  color: #000000;\n",
              "}\n",
              "#T_5f2bf_row5_col9 {\n",
              "  background-color: #5572df;\n",
              "  color: #f1f1f1;\n",
              "}\n",
              "#T_5f2bf_row5_col10 {\n",
              "  background-color: #485fd1;\n",
              "  color: #f1f1f1;\n",
              "}\n",
              "#T_5f2bf_row5_col11, #T_5f2bf_row10_col2 {\n",
              "  background-color: #e1dad6;\n",
              "  color: #000000;\n",
              "}\n",
              "#T_5f2bf_row6_col1 {\n",
              "  background-color: #f7b194;\n",
              "  color: #000000;\n",
              "}\n",
              "#T_5f2bf_row6_col2 {\n",
              "  background-color: #bed2f6;\n",
              "  color: #000000;\n",
              "}\n",
              "#T_5f2bf_row6_col7 {\n",
              "  background-color: #ead5c9;\n",
              "  color: #000000;\n",
              "}\n",
              "#T_5f2bf_row6_col8 {\n",
              "  background-color: #d2dbe8;\n",
              "  color: #000000;\n",
              "}\n",
              "#T_5f2bf_row6_col10 {\n",
              "  background-color: #81a4fb;\n",
              "  color: #f1f1f1;\n",
              "}\n",
              "#T_5f2bf_row6_col11 {\n",
              "  background-color: #adc9fd;\n",
              "  color: #000000;\n",
              "}\n",
              "#T_5f2bf_row7_col0 {\n",
              "  background-color: #5673e0;\n",
              "  color: #f1f1f1;\n",
              "}\n",
              "#T_5f2bf_row7_col1 {\n",
              "  background-color: #e97a5f;\n",
              "  color: #f1f1f1;\n",
              "}\n",
              "#T_5f2bf_row7_col3 {\n",
              "  background-color: #cfdaea;\n",
              "  color: #000000;\n",
              "}\n",
              "#T_5f2bf_row7_col4 {\n",
              "  background-color: #dadce0;\n",
              "  color: #000000;\n",
              "}\n",
              "#T_5f2bf_row7_col5 {\n",
              "  background-color: #6180e9;\n",
              "  color: #f1f1f1;\n",
              "}\n",
              "#T_5f2bf_row7_col6 {\n",
              "  background-color: #f1cdba;\n",
              "  color: #000000;\n",
              "}\n",
              "#T_5f2bf_row7_col9 {\n",
              "  background-color: #4a63d3;\n",
              "  color: #f1f1f1;\n",
              "}\n",
              "#T_5f2bf_row7_col10 {\n",
              "  background-color: #aac7fd;\n",
              "  color: #000000;\n",
              "}\n",
              "#T_5f2bf_row8_col0 {\n",
              "  background-color: #b2ccfb;\n",
              "  color: #000000;\n",
              "}\n",
              "#T_5f2bf_row8_col1 {\n",
              "  background-color: #b6cefa;\n",
              "  color: #000000;\n",
              "}\n",
              "#T_5f2bf_row8_col2 {\n",
              "  background-color: #efcebd;\n",
              "  color: #000000;\n",
              "}\n",
              "#T_5f2bf_row8_col4 {\n",
              "  background-color: #7a9df8;\n",
              "  color: #f1f1f1;\n",
              "}\n",
              "#T_5f2bf_row8_col5, #T_5f2bf_row9_col0 {\n",
              "  background-color: #a7c5fe;\n",
              "  color: #000000;\n",
              "}\n",
              "#T_5f2bf_row8_col7 {\n",
              "  background-color: #c0d4f5;\n",
              "  color: #000000;\n",
              "}\n",
              "#T_5f2bf_row8_col9 {\n",
              "  background-color: #4e68d8;\n",
              "  color: #f1f1f1;\n",
              "}\n",
              "#T_5f2bf_row8_col10, #T_5f2bf_row9_col5 {\n",
              "  background-color: #97b8ff;\n",
              "  color: #000000;\n",
              "}\n",
              "#T_5f2bf_row8_col11 {\n",
              "  background-color: #f4c6af;\n",
              "  color: #000000;\n",
              "}\n",
              "#T_5f2bf_row9_col1 {\n",
              "  background-color: #506bda;\n",
              "  color: #f1f1f1;\n",
              "}\n",
              "#T_5f2bf_row9_col2 {\n",
              "  background-color: #dfdbd9;\n",
              "  color: #000000;\n",
              "}\n",
              "#T_5f2bf_row9_col3, #T_5f2bf_row9_col6, #T_5f2bf_row11_col6 {\n",
              "  background-color: #92b4fe;\n",
              "  color: #000000;\n",
              "}\n",
              "#T_5f2bf_row9_col4, #T_5f2bf_row11_col0 {\n",
              "  background-color: #d3dbe7;\n",
              "  color: #000000;\n",
              "}\n",
              "#T_5f2bf_row9_col7 {\n",
              "  background-color: #86a9fc;\n",
              "  color: #f1f1f1;\n",
              "}\n",
              "#T_5f2bf_row9_col11 {\n",
              "  background-color: #e6d7cf;\n",
              "  color: #000000;\n",
              "}\n",
              "#T_5f2bf_row10_col0 {\n",
              "  background-color: #cbd8ee;\n",
              "  color: #000000;\n",
              "}\n",
              "#T_5f2bf_row10_col1, #T_5f2bf_row11_col8 {\n",
              "  background-color: #f2c9b4;\n",
              "  color: #000000;\n",
              "}\n",
              "#T_5f2bf_row10_col3 {\n",
              "  background-color: #bfd3f6;\n",
              "  color: #000000;\n",
              "}\n",
              "#T_5f2bf_row10_col4 {\n",
              "  background-color: #c4d5f3;\n",
              "  color: #000000;\n",
              "}\n",
              "#T_5f2bf_row10_col5 {\n",
              "  background-color: #799cf8;\n",
              "  color: #f1f1f1;\n",
              "}\n",
              "#T_5f2bf_row10_col6 {\n",
              "  background-color: #bbd1f8;\n",
              "  color: #000000;\n",
              "}\n",
              "#T_5f2bf_row10_col8 {\n",
              "  background-color: #d5dbe5;\n",
              "  color: #000000;\n",
              "}\n",
              "#T_5f2bf_row10_col9 {\n",
              "  background-color: #3e51c5;\n",
              "  color: #f1f1f1;\n",
              "}\n",
              "#T_5f2bf_row10_col11 {\n",
              "  background-color: #c9d7f0;\n",
              "  color: #000000;\n",
              "}\n",
              "#T_5f2bf_row11_col1 {\n",
              "  background-color: #6f92f3;\n",
              "  color: #f1f1f1;\n",
              "}\n",
              "#T_5f2bf_row11_col2 {\n",
              "  background-color: #f08a6c;\n",
              "  color: #f1f1f1;\n",
              "}\n",
              "#T_5f2bf_row11_col4 {\n",
              "  background-color: #6e90f2;\n",
              "  color: #f1f1f1;\n",
              "}\n",
              "#T_5f2bf_row11_col7 {\n",
              "  background-color: #85a8fc;\n",
              "  color: #f1f1f1;\n",
              "}\n",
              "</style>\n",
              "<table id=\"T_5f2bf\" class=\"dataframe\">\n",
              "  <thead>\n",
              "    <tr>\n",
              "      <th class=\"blank level0\" >&nbsp;</th>\n",
              "      <th id=\"T_5f2bf_level0_col0\" class=\"col_heading level0 col0\" >U_1</th>\n",
              "      <th id=\"T_5f2bf_level0_col1\" class=\"col_heading level0 col1\" >U_2</th>\n",
              "      <th id=\"T_5f2bf_level0_col2\" class=\"col_heading level0 col2\" >V_1</th>\n",
              "      <th id=\"T_5f2bf_level0_col3\" class=\"col_heading level0 col3\" >V_2</th>\n",
              "      <th id=\"T_5f2bf_level0_col4\" class=\"col_heading level0 col4\" >Pclass</th>\n",
              "      <th id=\"T_5f2bf_level0_col5\" class=\"col_heading level0 col5\" >Age</th>\n",
              "      <th id=\"T_5f2bf_level0_col6\" class=\"col_heading level0 col6\" >SibSp</th>\n",
              "      <th id=\"T_5f2bf_level0_col7\" class=\"col_heading level0 col7\" >Parch</th>\n",
              "      <th id=\"T_5f2bf_level0_col8\" class=\"col_heading level0 col8\" >Fare</th>\n",
              "      <th id=\"T_5f2bf_level0_col9\" class=\"col_heading level0 col9\" >Name</th>\n",
              "      <th id=\"T_5f2bf_level0_col10\" class=\"col_heading level0 col10\" >Sex</th>\n",
              "      <th id=\"T_5f2bf_level0_col11\" class=\"col_heading level0 col11\" >Cabin</th>\n",
              "    </tr>\n",
              "  </thead>\n",
              "  <tbody>\n",
              "    <tr>\n",
              "      <th id=\"T_5f2bf_level0_row0\" class=\"row_heading level0 row0\" >U_1</th>\n",
              "      <td id=\"T_5f2bf_row0_col0\" class=\"data row0 col0\" >1.000000</td>\n",
              "      <td id=\"T_5f2bf_row0_col1\" class=\"data row0 col1\" >-0.000000</td>\n",
              "      <td id=\"T_5f2bf_row0_col2\" class=\"data row0 col2\" >0.387090</td>\n",
              "      <td id=\"T_5f2bf_row0_col3\" class=\"data row0 col3\" >-0.000000</td>\n",
              "      <td id=\"T_5f2bf_row0_col4\" class=\"data row0 col4\" >-0.358667</td>\n",
              "      <td id=\"T_5f2bf_row0_col5\" class=\"data row0 col5\" >0.920601</td>\n",
              "      <td id=\"T_5f2bf_row0_col6\" class=\"data row0 col6\" >-0.438922</td>\n",
              "      <td id=\"T_5f2bf_row0_col7\" class=\"data row0 col7\" >-0.305772</td>\n",
              "      <td id=\"T_5f2bf_row0_col8\" class=\"data row0 col8\" >0.077099</td>\n",
              "      <td id=\"T_5f2bf_row0_col9\" class=\"data row0 col9\" >0.028559</td>\n",
              "      <td id=\"T_5f2bf_row0_col10\" class=\"data row0 col10\" >0.187802</td>\n",
              "      <td id=\"T_5f2bf_row0_col11\" class=\"data row0 col11\" >0.229480</td>\n",
              "    </tr>\n",
              "    <tr>\n",
              "      <th id=\"T_5f2bf_level0_row1\" class=\"row_heading level0 row1\" >U_2</th>\n",
              "      <td id=\"T_5f2bf_row1_col0\" class=\"data row1 col0\" >-0.000000</td>\n",
              "      <td id=\"T_5f2bf_row1_col1\" class=\"data row1 col1\" >1.000000</td>\n",
              "      <td id=\"T_5f2bf_row1_col2\" class=\"data row1 col2\" >-0.000172</td>\n",
              "      <td id=\"T_5f2bf_row1_col3\" class=\"data row1 col3\" >0.304968</td>\n",
              "      <td id=\"T_5f2bf_row1_col4\" class=\"data row1 col4\" >-0.114099</td>\n",
              "      <td id=\"T_5f2bf_row1_col5\" class=\"data row1 col5\" >0.085764</td>\n",
              "      <td id=\"T_5f2bf_row1_col6\" class=\"data row1 col6\" >0.649584</td>\n",
              "      <td id=\"T_5f2bf_row1_col7\" class=\"data row1 col7\" >0.802082</td>\n",
              "      <td id=\"T_5f2bf_row1_col8\" class=\"data row1 col8\" >0.298414</td>\n",
              "      <td id=\"T_5f2bf_row1_col9\" class=\"data row1 col9\" >-0.032333</td>\n",
              "      <td id=\"T_5f2bf_row1_col10\" class=\"data row1 col10\" >0.563668</td>\n",
              "      <td id=\"T_5f2bf_row1_col11\" class=\"data row1 col11\" >0.072039</td>\n",
              "    </tr>\n",
              "    <tr>\n",
              "      <th id=\"T_5f2bf_level0_row2\" class=\"row_heading level0 row2\" >V_1</th>\n",
              "      <td id=\"T_5f2bf_row2_col0\" class=\"data row2 col0\" >0.387090</td>\n",
              "      <td id=\"T_5f2bf_row2_col1\" class=\"data row2 col1\" >-0.000172</td>\n",
              "      <td id=\"T_5f2bf_row2_col2\" class=\"data row2 col2\" >1.000000</td>\n",
              "      <td id=\"T_5f2bf_row2_col3\" class=\"data row2 col3\" >-0.000000</td>\n",
              "      <td id=\"T_5f2bf_row2_col4\" class=\"data row2 col4\" >-0.926571</td>\n",
              "      <td id=\"T_5f2bf_row2_col5\" class=\"data row2 col5\" >0.356341</td>\n",
              "      <td id=\"T_5f2bf_row2_col6\" class=\"data row2 col6\" >-0.170014</td>\n",
              "      <td id=\"T_5f2bf_row2_col7\" class=\"data row2 col7\" >-0.118499</td>\n",
              "      <td id=\"T_5f2bf_row2_col8\" class=\"data row2 col8\" >0.199175</td>\n",
              "      <td id=\"T_5f2bf_row2_col9\" class=\"data row2 col9\" >0.053525</td>\n",
              "      <td id=\"T_5f2bf_row2_col10\" class=\"data row2 col10\" >0.072599</td>\n",
              "      <td id=\"T_5f2bf_row2_col11\" class=\"data row2 col11\" >0.592834</td>\n",
              "    </tr>\n",
              "    <tr>\n",
              "      <th id=\"T_5f2bf_level0_row3\" class=\"row_heading level0 row3\" >V_2</th>\n",
              "      <td id=\"T_5f2bf_row3_col0\" class=\"data row3 col0\" >-0.000000</td>\n",
              "      <td id=\"T_5f2bf_row3_col1\" class=\"data row3 col1\" >0.304968</td>\n",
              "      <td id=\"T_5f2bf_row3_col2\" class=\"data row3 col2\" >-0.000000</td>\n",
              "      <td id=\"T_5f2bf_row3_col3\" class=\"data row3 col3\" >1.000000</td>\n",
              "      <td id=\"T_5f2bf_row3_col4\" class=\"data row3 col4\" >-0.374656</td>\n",
              "      <td id=\"T_5f2bf_row3_col5\" class=\"data row3 col5\" >0.026155</td>\n",
              "      <td id=\"T_5f2bf_row3_col6\" class=\"data row3 col6\" >0.198102</td>\n",
              "      <td id=\"T_5f2bf_row3_col7\" class=\"data row3 col7\" >0.244609</td>\n",
              "      <td id=\"T_5f2bf_row3_col8\" class=\"data row3 col8\" >0.978624</td>\n",
              "      <td id=\"T_5f2bf_row3_col9\" class=\"data row3 col9\" >-0.013058</td>\n",
              "      <td id=\"T_5f2bf_row3_col10\" class=\"data row3 col10\" >0.171901</td>\n",
              "      <td id=\"T_5f2bf_row3_col11\" class=\"data row3 col11\" >0.236553</td>\n",
              "    </tr>\n",
              "    <tr>\n",
              "      <th id=\"T_5f2bf_level0_row4\" class=\"row_heading level0 row4\" >Pclass</th>\n",
              "      <td id=\"T_5f2bf_row4_col0\" class=\"data row4 col0\" >-0.358667</td>\n",
              "      <td id=\"T_5f2bf_row4_col1\" class=\"data row4 col1\" >-0.114099</td>\n",
              "      <td id=\"T_5f2bf_row4_col2\" class=\"data row4 col2\" >-0.926571</td>\n",
              "      <td id=\"T_5f2bf_row4_col3\" class=\"data row4 col3\" >-0.374656</td>\n",
              "      <td id=\"T_5f2bf_row4_col4\" class=\"data row4 col4\" >1.000000</td>\n",
              "      <td id=\"T_5f2bf_row4_col5\" class=\"data row4 col5\" >-0.339898</td>\n",
              "      <td id=\"T_5f2bf_row4_col6\" class=\"data row4 col6\" >0.083081</td>\n",
              "      <td id=\"T_5f2bf_row4_col7\" class=\"data row4 col7\" >0.018443</td>\n",
              "      <td id=\"T_5f2bf_row4_col8\" class=\"data row4 col8\" >-0.549500</td>\n",
              "      <td id=\"T_5f2bf_row4_col9\" class=\"data row4 col9\" >-0.035144</td>\n",
              "      <td id=\"T_5f2bf_row4_col10\" class=\"data row4 col10\" >-0.131900</td>\n",
              "      <td id=\"T_5f2bf_row4_col11\" class=\"data row4 col11\" >-0.612417</td>\n",
              "    </tr>\n",
              "    <tr>\n",
              "      <th id=\"T_5f2bf_level0_row5\" class=\"row_heading level0 row5\" >Age</th>\n",
              "      <td id=\"T_5f2bf_row5_col0\" class=\"data row5 col0\" >0.920601</td>\n",
              "      <td id=\"T_5f2bf_row5_col1\" class=\"data row5 col1\" >0.085764</td>\n",
              "      <td id=\"T_5f2bf_row5_col2\" class=\"data row5 col2\" >0.356341</td>\n",
              "      <td id=\"T_5f2bf_row5_col3\" class=\"data row5 col3\" >0.026155</td>\n",
              "      <td id=\"T_5f2bf_row5_col4\" class=\"data row5 col4\" >-0.339898</td>\n",
              "      <td id=\"T_5f2bf_row5_col5\" class=\"data row5 col5\" >1.000000</td>\n",
              "      <td id=\"T_5f2bf_row5_col6\" class=\"data row5 col6\" >-0.233296</td>\n",
              "      <td id=\"T_5f2bf_row5_col7\" class=\"data row5 col7\" >-0.172482</td>\n",
              "      <td id=\"T_5f2bf_row5_col8\" class=\"data row5 col8\" >0.096688</td>\n",
              "      <td id=\"T_5f2bf_row5_col9\" class=\"data row5 col9\" >0.034212</td>\n",
              "      <td id=\"T_5f2bf_row5_col10\" class=\"data row5 col10\" >-0.081163</td>\n",
              "      <td id=\"T_5f2bf_row5_col11\" class=\"data row5 col11\" >0.219211</td>\n",
              "    </tr>\n",
              "    <tr>\n",
              "      <th id=\"T_5f2bf_level0_row6\" class=\"row_heading level0 row6\" >SibSp</th>\n",
              "      <td id=\"T_5f2bf_row6_col0\" class=\"data row6 col0\" >-0.438922</td>\n",
              "      <td id=\"T_5f2bf_row6_col1\" class=\"data row6 col1\" >0.649584</td>\n",
              "      <td id=\"T_5f2bf_row6_col2\" class=\"data row6 col2\" >-0.170014</td>\n",
              "      <td id=\"T_5f2bf_row6_col3\" class=\"data row6 col3\" >0.198102</td>\n",
              "      <td id=\"T_5f2bf_row6_col4\" class=\"data row6 col4\" >0.083081</td>\n",
              "      <td id=\"T_5f2bf_row6_col5\" class=\"data row6 col5\" >-0.233296</td>\n",
              "      <td id=\"T_5f2bf_row6_col6\" class=\"data row6 col6\" >1.000000</td>\n",
              "      <td id=\"T_5f2bf_row6_col7\" class=\"data row6 col7\" >0.414838</td>\n",
              "      <td id=\"T_5f2bf_row6_col8\" class=\"data row6 col8\" >0.159651</td>\n",
              "      <td id=\"T_5f2bf_row6_col9\" class=\"data row6 col9\" >-0.057527</td>\n",
              "      <td id=\"T_5f2bf_row6_col10\" class=\"data row6 col10\" >0.114631</td>\n",
              "      <td id=\"T_5f2bf_row6_col11\" class=\"data row6 col11\" >-0.059244</td>\n",
              "    </tr>\n",
              "    <tr>\n",
              "      <th id=\"T_5f2bf_level0_row7\" class=\"row_heading level0 row7\" >Parch</th>\n",
              "      <td id=\"T_5f2bf_row7_col0\" class=\"data row7 col0\" >-0.305772</td>\n",
              "      <td id=\"T_5f2bf_row7_col1\" class=\"data row7 col1\" >0.802082</td>\n",
              "      <td id=\"T_5f2bf_row7_col2\" class=\"data row7 col2\" >-0.118499</td>\n",
              "      <td id=\"T_5f2bf_row7_col3\" class=\"data row7 col3\" >0.244609</td>\n",
              "      <td id=\"T_5f2bf_row7_col4\" class=\"data row7 col4\" >0.018443</td>\n",
              "      <td id=\"T_5f2bf_row7_col5\" class=\"data row7 col5\" >-0.172482</td>\n",
              "      <td id=\"T_5f2bf_row7_col6\" class=\"data row7 col6\" >0.414838</td>\n",
              "      <td id=\"T_5f2bf_row7_col7\" class=\"data row7 col7\" >1.000000</td>\n",
              "      <td id=\"T_5f2bf_row7_col8\" class=\"data row7 col8\" >0.216225</td>\n",
              "      <td id=\"T_5f2bf_row7_col9\" class=\"data row7 col9\" >-0.001652</td>\n",
              "      <td id=\"T_5f2bf_row7_col10\" class=\"data row7 col10\" >0.245489</td>\n",
              "      <td id=\"T_5f2bf_row7_col11\" class=\"data row7 col11\" >-0.005675</td>\n",
              "    </tr>\n",
              "    <tr>\n",
              "      <th id=\"T_5f2bf_level0_row8\" class=\"row_heading level0 row8\" >Fare</th>\n",
              "      <td id=\"T_5f2bf_row8_col0\" class=\"data row8 col0\" >0.077099</td>\n",
              "      <td id=\"T_5f2bf_row8_col1\" class=\"data row8 col1\" >0.298414</td>\n",
              "      <td id=\"T_5f2bf_row8_col2\" class=\"data row8 col2\" >0.199175</td>\n",
              "      <td id=\"T_5f2bf_row8_col3\" class=\"data row8 col3\" >0.978624</td>\n",
              "      <td id=\"T_5f2bf_row8_col4\" class=\"data row8 col4\" >-0.549500</td>\n",
              "      <td id=\"T_5f2bf_row8_col5\" class=\"data row8 col5\" >0.096688</td>\n",
              "      <td id=\"T_5f2bf_row8_col6\" class=\"data row8 col6\" >0.159651</td>\n",
              "      <td id=\"T_5f2bf_row8_col7\" class=\"data row8 col7\" >0.216225</td>\n",
              "      <td id=\"T_5f2bf_row8_col8\" class=\"data row8 col8\" >1.000000</td>\n",
              "      <td id=\"T_5f2bf_row8_col9\" class=\"data row8 col9\" >0.012658</td>\n",
              "      <td id=\"T_5f2bf_row8_col10\" class=\"data row8 col10\" >0.182333</td>\n",
              "      <td id=\"T_5f2bf_row8_col11\" class=\"data row8 col11\" >0.389012</td>\n",
              "    </tr>\n",
              "    <tr>\n",
              "      <th id=\"T_5f2bf_level0_row9\" class=\"row_heading level0 row9\" >Name</th>\n",
              "      <td id=\"T_5f2bf_row9_col0\" class=\"data row9 col0\" >0.028559</td>\n",
              "      <td id=\"T_5f2bf_row9_col1\" class=\"data row9 col1\" >-0.032333</td>\n",
              "      <td id=\"T_5f2bf_row9_col2\" class=\"data row9 col2\" >0.053525</td>\n",
              "      <td id=\"T_5f2bf_row9_col3\" class=\"data row9 col3\" >-0.013058</td>\n",
              "      <td id=\"T_5f2bf_row9_col4\" class=\"data row9 col4\" >-0.035144</td>\n",
              "      <td id=\"T_5f2bf_row9_col5\" class=\"data row9 col5\" >0.034212</td>\n",
              "      <td id=\"T_5f2bf_row9_col6\" class=\"data row9 col6\" >-0.057527</td>\n",
              "      <td id=\"T_5f2bf_row9_col7\" class=\"data row9 col7\" >-0.001652</td>\n",
              "      <td id=\"T_5f2bf_row9_col8\" class=\"data row9 col8\" >0.012658</td>\n",
              "      <td id=\"T_5f2bf_row9_col9\" class=\"data row9 col9\" >1.000000</td>\n",
              "      <td id=\"T_5f2bf_row9_col10\" class=\"data row9 col10\" >-0.042939</td>\n",
              "      <td id=\"T_5f2bf_row9_col11\" class=\"data row9 col11\" >0.250672</td>\n",
              "    </tr>\n",
              "    <tr>\n",
              "      <th id=\"T_5f2bf_level0_row10\" class=\"row_heading level0 row10\" >Sex</th>\n",
              "      <td id=\"T_5f2bf_row10_col0\" class=\"data row10 col0\" >0.187802</td>\n",
              "      <td id=\"T_5f2bf_row10_col1\" class=\"data row10 col1\" >0.563668</td>\n",
              "      <td id=\"T_5f2bf_row10_col2\" class=\"data row10 col2\" >0.072599</td>\n",
              "      <td id=\"T_5f2bf_row10_col3\" class=\"data row10 col3\" >0.171901</td>\n",
              "      <td id=\"T_5f2bf_row10_col4\" class=\"data row10 col4\" >-0.131900</td>\n",
              "      <td id=\"T_5f2bf_row10_col5\" class=\"data row10 col5\" >-0.081163</td>\n",
              "      <td id=\"T_5f2bf_row10_col6\" class=\"data row10 col6\" >0.114631</td>\n",
              "      <td id=\"T_5f2bf_row10_col7\" class=\"data row10 col7\" >0.245489</td>\n",
              "      <td id=\"T_5f2bf_row10_col8\" class=\"data row10 col8\" >0.182333</td>\n",
              "      <td id=\"T_5f2bf_row10_col9\" class=\"data row10 col9\" >-0.042939</td>\n",
              "      <td id=\"T_5f2bf_row10_col10\" class=\"data row10 col10\" >1.000000</td>\n",
              "      <td id=\"T_5f2bf_row10_col11\" class=\"data row10 col11\" >0.078396</td>\n",
              "    </tr>\n",
              "    <tr>\n",
              "      <th id=\"T_5f2bf_level0_row11\" class=\"row_heading level0 row11\" >Cabin</th>\n",
              "      <td id=\"T_5f2bf_row11_col0\" class=\"data row11 col0\" >0.229480</td>\n",
              "      <td id=\"T_5f2bf_row11_col1\" class=\"data row11 col1\" >0.072039</td>\n",
              "      <td id=\"T_5f2bf_row11_col2\" class=\"data row11 col2\" >0.592834</td>\n",
              "      <td id=\"T_5f2bf_row11_col3\" class=\"data row11 col3\" >0.236553</td>\n",
              "      <td id=\"T_5f2bf_row11_col4\" class=\"data row11 col4\" >-0.612417</td>\n",
              "      <td id=\"T_5f2bf_row11_col5\" class=\"data row11 col5\" >0.219211</td>\n",
              "      <td id=\"T_5f2bf_row11_col6\" class=\"data row11 col6\" >-0.059244</td>\n",
              "      <td id=\"T_5f2bf_row11_col7\" class=\"data row11 col7\" >-0.005675</td>\n",
              "      <td id=\"T_5f2bf_row11_col8\" class=\"data row11 col8\" >0.389012</td>\n",
              "      <td id=\"T_5f2bf_row11_col9\" class=\"data row11 col9\" >0.250672</td>\n",
              "      <td id=\"T_5f2bf_row11_col10\" class=\"data row11 col10\" >0.078396</td>\n",
              "      <td id=\"T_5f2bf_row11_col11\" class=\"data row11 col11\" >1.000000</td>\n",
              "    </tr>\n",
              "  </tbody>\n",
              "</table>\n"
            ]
          },
          "metadata": {},
          "execution_count": 33
        }
      ]
    },
    {
      "cell_type": "markdown",
      "source": [
        "##### Show the correlation circle"
      ],
      "metadata": {
        "id": "3TyeiIckQGQf"
      }
    },
    {
      "cell_type": "code",
      "source": [
        "fig, axes = plt.subplots(figsize=(8,8))\n",
        "axes.set_xlim(-1,1)\n",
        "axes.set_ylim(-1,1)\n",
        "\n",
        "# Print the labels (variable names)\n",
        "for col in data_scaled:\n",
        "    if col in X_Demographic.columns: color=\"b\"\n",
        "    elif col in X_FareClass.columns: color=\"r\"\n",
        "    else: color = \"black\"\n",
        "\n",
        "    # Get coordinates in the two canonical components  \n",
        "    coord_horizontal = .5 * (corr_cc_var.at[\"U_1\",col] + corr_cc_var.at[\"V_1\",col])\n",
        "    coord_vertical = .5 * (corr_cc_var.at[\"U_2\",col] + corr_cc_var.at[\"V_2\",col])\n",
        "    plt.annotate(col,(coord_horizontal,coord_vertical), color=color)\n",
        "    axes.annotate(\"\", xy=(coord_horizontal,coord_vertical), xytext=(0, 0),arrowprops=dict(arrowstyle=\"->\", color=\"black\"))\n",
        "\n",
        "# Add the axes\n",
        "plt.plot([-1,1],[0,0],color='silver',linestyle='-',linewidth=1)\n",
        "plt.plot([0,0],[-1,1],color='silver',linestyle='-',linewidth=1)\n",
        "\n",
        "# Add a circle\n",
        "cercle = plt.Circle((0,0),1,color='black',fill=False)\n",
        "axes.add_artist(cercle)\n",
        "# Print the correlation circle\n",
        "plt.show()"
      ],
      "metadata": {
        "id": "_vdbaq7NQH4K",
        "colab": {
          "base_uri": "https://localhost:8080/",
          "height": 682
        },
        "outputId": "620af421-d8c8-452d-8e65-e025b0057ed1"
      },
      "execution_count": 34,
      "outputs": [
        {
          "output_type": "display_data",
          "data": {
            "text/plain": [
              "<Figure size 800x800 with 1 Axes>"
            ],
            "image/png": "[encoded data removed]"
          },
          "metadata": {}
        }
      ]
    },
    {
      "cell_type": "markdown",
      "source": [
        "##### Interpret the obtained results"
      ],
      "metadata": {
        "id": "PZGdyIqWQJ5i"
      }
    },
    {
      "cell_type": "markdown",
      "source": [
        "On remarque la prochtie du indevidis de les  deux groupes, cela assure l'existance de la coorilation entre les deux derniers comme on a supposer lors de choix des deux groupes dans la question au dessus ."
      ],
      "metadata": {
        "id": "6dEV6XGKeCu0"
      }
    },
    {
      "cell_type": "markdown",
      "source": [
        "#### Individual visualization "
      ],
      "metadata": {
        "id": "ihkUgZJbQ24U"
      }
    },
    {
      "cell_type": "markdown",
      "source": [
        "##### Show the individuals representation"
      ],
      "metadata": {
        "id": "r0ktU43JSLye"
      }
    },
    {
      "cell_type": "code",
      "source": [
        "from matplotlib.pyplot import figure\n",
        "fig, axes = plt.subplots(figsize=(8,8))\n",
        "\n",
        "# We can plot the first 5 samples in the dataset\n",
        "# by their coordinates in the first group of variables (in blue)\n",
        "# and their coordinates in the second group of variables (in red)\n",
        "# to see how far the two groups place the same sample.\n",
        "for i in range(5):\n",
        "    plt.annotate(i, (U_[i,0],U_[i,1]), color=\"b\")\n",
        "    plt.annotate(i, (V_[i, 0],V_[i, 1]), color=\"r\")\n",
        "\n",
        "plt.xlabel('Coordinates for the first pair')\n",
        "plt.ylabel('Coordinates for the second pair')\n",
        "\n",
        "# Modify xlim and ylim out zoom in and out of the figure\n",
        "coord = 2.5\n",
        "plt.xlim(-coord,coord)\n",
        "plt.ylim(-coord,coord)\n",
        "\n",
        "plt.hlines(0, -coord, coord, color=\"grey\")\n",
        "plt.vlines(0, -coord, coord, color=\"grey\")\n",
        "\n",
        "plt.plot()"
      ],
      "metadata": {
        "id": "Q5rTCInGQ6Ou",
        "colab": {
          "base_uri": "https://localhost:8080/",
          "height": 713
        },
        "outputId": "19d091ef-087d-4df2-c11b-da667ed78c1b"
      },
      "execution_count": 35,
      "outputs": [
        {
          "output_type": "execute_result",
          "data": {
            "text/plain": [
              "[]"
            ]
          },
          "metadata": {},
          "execution_count": 35
        },
        {
          "output_type": "display_data",
          "data": {
            "text/plain": [
              "<Figure size 800x800 with 1 Axes>"
            ],
            "image/png": "[encoded data removed]"
          },
          "metadata": {}
        }
      ]
    },
    {
      "cell_type": "markdown",
      "source": [
        "##### Interpret the obtained results"
      ],
      "metadata": {
        "id": "CEdCLoCfRkJA"
      }
    },
    {
      "cell_type": "markdown",
      "source": [
        "Nous pouvons constater qu'il y a un certain chevauchement entre les deux groupes, suggérant qu'il existe une certaine relation entre les variables démographiques et les variables de tarif/classe. Cependant, il y a également une certaine séparation entre les deux groupes, ce qui indique qu'ils ne sont pas complètement corrélés.\n",
        "\n"
      ],
      "metadata": {
        "id": "pf8mQraOiHD_"
      }
    },
    {
      "cell_type": "markdown",
      "source": [
        "### CCA Conclusion\n",
        "Based on your visualizations, do you think it would be useful to use the CCA results to reduce the dimensionality of your dataset before applying some form of clustering method, like you did with PCA? Why / why not?"
      ],
      "metadata": {
        "id": "taYmgfN46Hf3"
      }
    },
    {
      "cell_type": "markdown",
      "source": [
        "La visualisation suggère que la CCA pourrait être une technique utile dans ce cas. En identifiant la relation linéaire entre les deux ensembles de variables, la CCA pourrait capturer certaines informations qui ne sont pas capturées par chaque ensemble de variables seul. Cela pourrait aider à réduire le bruit dans les données et améliorer les performances des algorithmes de clustering."
      ],
      "metadata": {
        "id": "bxVNPtXm6H2B"
      }
    }
  ]
}